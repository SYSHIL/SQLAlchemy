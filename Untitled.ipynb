{
 "cells": [
  {
   "cell_type": "code",
   "execution_count": 11,
   "id": "40ab5ec2",
   "metadata": {
    "execution": {
     "iopub.execute_input": "2022-08-04T06:26:31.751041Z",
     "iopub.status.busy": "2022-08-04T06:26:31.750053Z",
     "iopub.status.idle": "2022-08-04T06:26:31.912116Z",
     "shell.execute_reply": "2022-08-04T06:26:31.911114Z"
    }
   },
   "outputs": [],
   "source": [
    "import sqlalchemy\n",
    "import IPython"
   ]
  },
  {
   "cell_type": "code",
   "execution_count": 12,
   "id": "40c1d635",
   "metadata": {
    "execution": {
     "iopub.execute_input": "2022-08-04T06:26:31.915401Z",
     "iopub.status.busy": "2022-08-04T06:26:31.915401Z",
     "iopub.status.idle": "2022-08-04T06:26:31.927372Z",
     "shell.execute_reply": "2022-08-04T06:26:31.926388Z"
    }
   },
   "outputs": [
    {
     "name": "stdout",
     "output_type": "stream",
     "text": [
      "1.4.39\n",
      "8.4.0\n"
     ]
    }
   ],
   "source": [
    "print(sqlalchemy.__version__)\n",
    "print(IPython.__version__)"
   ]
  },
  {
   "cell_type": "code",
   "execution_count": 13,
   "id": "ac2d3d6e",
   "metadata": {
    "execution": {
     "iopub.execute_input": "2022-08-04T06:26:31.931332Z",
     "iopub.status.busy": "2022-08-04T06:26:31.930349Z",
     "iopub.status.idle": "2022-08-04T06:26:31.942529Z",
     "shell.execute_reply": "2022-08-04T06:26:31.941592Z"
    }
   },
   "outputs": [],
   "source": [
    "from sqlalchemy import create_engine"
   ]
  },
  {
   "cell_type": "code",
   "execution_count": 14,
   "id": "c9dd9784",
   "metadata": {
    "execution": {
     "iopub.execute_input": "2022-08-04T06:26:31.946055Z",
     "iopub.status.busy": "2022-08-04T06:26:31.946055Z",
     "iopub.status.idle": "2022-08-04T06:26:31.958571Z",
     "shell.execute_reply": "2022-08-04T06:26:31.957696Z"
    }
   },
   "outputs": [],
   "source": [
    "engine = create_engine(\"sqlite:///pets.db\",echo=False)"
   ]
  },
  {
   "cell_type": "markdown",
   "id": "8ecce715",
   "metadata": {},
   "source": [
    "### Declaring a map"
   ]
  },
  {
   "cell_type": "code",
   "execution_count": 15,
   "id": "f4b53c92",
   "metadata": {
    "execution": {
     "iopub.execute_input": "2022-08-04T06:26:31.961562Z",
     "iopub.status.busy": "2022-08-04T06:26:31.961562Z",
     "iopub.status.idle": "2022-08-04T06:26:32.021067Z",
     "shell.execute_reply": "2022-08-04T06:26:32.020140Z"
    }
   },
   "outputs": [],
   "source": [
    "from sqlalchemy.ext.declarative import declarative_base\n",
    "Base = declarative_base()"
   ]
  },
  {
   "cell_type": "code",
   "execution_count": 16,
   "id": "1a75bd26",
   "metadata": {
    "execution": {
     "iopub.execute_input": "2022-08-04T06:26:32.024057Z",
     "iopub.status.busy": "2022-08-04T06:26:32.024057Z",
     "iopub.status.idle": "2022-08-04T06:26:32.068972Z",
     "shell.execute_reply": "2022-08-04T06:26:32.067029Z"
    }
   },
   "outputs": [],
   "source": [
    "from sqlalchemy import Column, Integer, String\n",
    "class Pet(Base):\n",
    "    __tablename__ = \"pets\"\n",
    "    id = Column(Integer, primary_key=True)\n",
    "    name = Column(String)\n",
    "    age = Column(Integer)\n",
    "    def __repr__(self):\n",
    "        return f'{self.id} | {self.name} {self.age}'"
   ]
  },
  {
   "cell_type": "code",
   "execution_count": 21,
   "id": "fc5bace6",
   "metadata": {
    "execution": {
     "iopub.execute_input": "2022-08-04T06:26:32.071746Z",
     "iopub.status.busy": "2022-08-04T06:26:32.071746Z",
     "iopub.status.idle": "2022-08-04T06:26:32.083327Z",
     "shell.execute_reply": "2022-08-04T06:26:32.081957Z"
    }
   },
   "outputs": [
    {
     "name": "stdout",
     "output_type": "stream",
     "text": [
      "2022-08-04 12:24:25,796 INFO sqlalchemy.engine.Engine BEGIN (implicit)\n",
      "2022-08-04 12:24:25,797 INFO sqlalchemy.engine.Engine PRAGMA main.table_info(\"pets\")\n",
      "2022-08-04 12:24:25,799 INFO sqlalchemy.engine.Engine [raw sql] ()\n",
      "2022-08-04 12:24:25,802 INFO sqlalchemy.engine.Engine COMMIT\n",
      "jethro\n",
      "1\n"
     ]
    }
   ],
   "source": [
    "if __name__ == \"__main__\":\n",
    "    Base.metadata.create_all(engine)\n",
    "    ed = Pet(name='jethro',age=1)\n",
    "    print(ed.name)\n",
    "    print(ed.age)"
   ]
  },
  {
   "cell_type": "code",
   "execution_count": null,
   "id": "30ba6a06",
   "metadata": {},
   "outputs": [],
   "source": []
  }
 ],
 "metadata": {
  "kernelspec": {
   "display_name": "Python 3 (ipykernel)",
   "language": "python",
   "name": "python3"
  },
  "language_info": {
   "codemirror_mode": {
    "name": "ipython",
    "version": 3
   },
   "file_extension": ".py",
   "mimetype": "text/x-python",
   "name": "python",
   "nbconvert_exporter": "python",
   "pygments_lexer": "ipython3",
   "version": "3.10.0"
  },
  "vscode": {
   "interpreter": {
    "hash": "c755e3cf291b31103800261254b06ef08bdfd002e7ce76be86af0aa42559d691"
   }
  }
 },
 "nbformat": 4,
 "nbformat_minor": 5
}
